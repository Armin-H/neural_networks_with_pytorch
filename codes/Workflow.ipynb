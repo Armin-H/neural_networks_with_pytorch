{
  "nbformat": 4,
  "nbformat_minor": 0,
  "metadata": {
    "colab": {
      "provenance": [],
      "gpuType": "T4",
      "authorship_tag": "ABX9TyMgndv21MgFib3FOqcDNFRT"
    },
    "kernelspec": {
      "name": "python3",
      "display_name": "Python 3"
    },
    "language_info": {
      "name": "python"
    },
    "accelerator": "GPU"
  },
  "cells": [
    {
      "cell_type": "markdown",
      "source": [
        "# Importing Libraries"
      ],
      "metadata": {
        "id": "QMI-TL613u7z"
      }
    },
    {
      "cell_type": "code",
      "execution_count": null,
      "metadata": {
        "colab": {
          "base_uri": "https://localhost:8080/"
        },
        "id": "uafmOZWL3lKl",
        "outputId": "6ad0a7fd-c7e5-4db0-e399-fd4cb087b056"
      },
      "outputs": [
        {
          "output_type": "stream",
          "name": "stdout",
          "text": [
            "2.0.1+cu118\n"
          ]
        }
      ],
      "source": [
        "import torch\n",
        "from torch import nn\n",
        "from matplotlib import pyplot as plt\n",
        "\n",
        "print(torch.__version__)"
      ]
    },
    {
      "cell_type": "markdown",
      "source": [
        "# Creating a Sample Linear-Based Data"
      ],
      "metadata": {
        "id": "XKwU11hK4V96"
      }
    },
    {
      "cell_type": "code",
      "source": [
        "weight = 0.7\n",
        "bias = 0.3\n",
        "\n",
        "start = 0\n",
        "end = 1\n",
        "step = 0.01\n",
        "\n",
        "X = torch.arange(start, end, step).reshape(shape=(-1, 1))\n",
        "\n",
        "y = weight * X + bias"
      ],
      "metadata": {
        "id": "I_Rp5Q-737F3"
      },
      "execution_count": null,
      "outputs": []
    },
    {
      "cell_type": "code",
      "source": [
        "print(X.shape, y.shape)\n",
        "print(X[:10], y[10:])"
      ],
      "metadata": {
        "colab": {
          "base_uri": "https://localhost:8080/"
        },
        "id": "BC4YHwmu4t5T",
        "outputId": "8925e799-a068-4b06-8d35-bbbdd2106605"
      },
      "execution_count": null,
      "outputs": [
        {
          "output_type": "stream",
          "name": "stdout",
          "text": [
            "torch.Size([100, 1]) torch.Size([100, 1])\n",
            "tensor([[0.0000],\n",
            "        [0.0100],\n",
            "        [0.0200],\n",
            "        [0.0300],\n",
            "        [0.0400],\n",
            "        [0.0500],\n",
            "        [0.0600],\n",
            "        [0.0700],\n",
            "        [0.0800],\n",
            "        [0.0900]]) tensor([[0.3700],\n",
            "        [0.3770],\n",
            "        [0.3840],\n",
            "        [0.3910],\n",
            "        [0.3980],\n",
            "        [0.4050],\n",
            "        [0.4120],\n",
            "        [0.4190],\n",
            "        [0.4260],\n",
            "        [0.4330],\n",
            "        [0.4400],\n",
            "        [0.4470],\n",
            "        [0.4540],\n",
            "        [0.4610],\n",
            "        [0.4680],\n",
            "        [0.4750],\n",
            "        [0.4820],\n",
            "        [0.4890],\n",
            "        [0.4960],\n",
            "        [0.5030],\n",
            "        [0.5100],\n",
            "        [0.5170],\n",
            "        [0.5240],\n",
            "        [0.5310],\n",
            "        [0.5380],\n",
            "        [0.5450],\n",
            "        [0.5520],\n",
            "        [0.5590],\n",
            "        [0.5660],\n",
            "        [0.5730],\n",
            "        [0.5800],\n",
            "        [0.5870],\n",
            "        [0.5940],\n",
            "        [0.6010],\n",
            "        [0.6080],\n",
            "        [0.6150],\n",
            "        [0.6220],\n",
            "        [0.6290],\n",
            "        [0.6360],\n",
            "        [0.6430],\n",
            "        [0.6500],\n",
            "        [0.6570],\n",
            "        [0.6640],\n",
            "        [0.6710],\n",
            "        [0.6780],\n",
            "        [0.6850],\n",
            "        [0.6920],\n",
            "        [0.6990],\n",
            "        [0.7060],\n",
            "        [0.7130],\n",
            "        [0.7200],\n",
            "        [0.7270],\n",
            "        [0.7340],\n",
            "        [0.7410],\n",
            "        [0.7480],\n",
            "        [0.7550],\n",
            "        [0.7620],\n",
            "        [0.7690],\n",
            "        [0.7760],\n",
            "        [0.7830],\n",
            "        [0.7900],\n",
            "        [0.7970],\n",
            "        [0.8040],\n",
            "        [0.8110],\n",
            "        [0.8180],\n",
            "        [0.8250],\n",
            "        [0.8320],\n",
            "        [0.8390],\n",
            "        [0.8460],\n",
            "        [0.8530],\n",
            "        [0.8600],\n",
            "        [0.8670],\n",
            "        [0.8740],\n",
            "        [0.8810],\n",
            "        [0.8880],\n",
            "        [0.8950],\n",
            "        [0.9020],\n",
            "        [0.9090],\n",
            "        [0.9160],\n",
            "        [0.9230],\n",
            "        [0.9300],\n",
            "        [0.9370],\n",
            "        [0.9440],\n",
            "        [0.9510],\n",
            "        [0.9580],\n",
            "        [0.9650],\n",
            "        [0.9720],\n",
            "        [0.9790],\n",
            "        [0.9860],\n",
            "        [0.9930]])\n"
          ]
        }
      ]
    },
    {
      "cell_type": "code",
      "source": [
        "X[:10, 0], y[:10, 0]"
      ],
      "metadata": {
        "colab": {
          "base_uri": "https://localhost:8080/"
        },
        "id": "jZc3NR1o5Dii",
        "outputId": "4db21b3b-2989-465d-db40-53aec92eabce"
      },
      "execution_count": null,
      "outputs": [
        {
          "output_type": "execute_result",
          "data": {
            "text/plain": [
              "(tensor([0.0000, 0.0100, 0.0200, 0.0300, 0.0400, 0.0500, 0.0600, 0.0700, 0.0800,\n",
              "         0.0900]),\n",
              " tensor([0.3000, 0.3070, 0.3140, 0.3210, 0.3280, 0.3350, 0.3420, 0.3490, 0.3560,\n",
              "         0.3630]))"
            ]
          },
          "metadata": {},
          "execution_count": 4
        }
      ]
    },
    {
      "cell_type": "markdown",
      "source": [
        "# Splitting Data into Training and Testing Sets"
      ],
      "metadata": {
        "id": "iy2emrd15UMS"
      }
    },
    {
      "cell_type": "code",
      "source": [
        "train_fraction = 0.80\n",
        "train_split = int(train_fraction * X.shape[0])"
      ],
      "metadata": {
        "id": "q4QeFydu5M5y"
      },
      "execution_count": null,
      "outputs": []
    },
    {
      "cell_type": "code",
      "source": [
        "train_split"
      ],
      "metadata": {
        "colab": {
          "base_uri": "https://localhost:8080/"
        },
        "id": "yU_fGO8w6DE6",
        "outputId": "38ff7fad-9848-4e96-decc-1ace8b355b5e"
      },
      "execution_count": null,
      "outputs": [
        {
          "output_type": "execute_result",
          "data": {
            "text/plain": [
              "80"
            ]
          },
          "metadata": {},
          "execution_count": 6
        }
      ]
    },
    {
      "cell_type": "code",
      "source": [
        "X_train, y_train = X[:train_split, :], y[:train_split, :]\n",
        "X_test, y_test = X[train_split:, :], y[train_split:, :]"
      ],
      "metadata": {
        "id": "zI48D57S57kV"
      },
      "execution_count": null,
      "outputs": []
    },
    {
      "cell_type": "code",
      "source": [
        "X_train.shape, y_train.shape, X_test.shape, y_test.shape"
      ],
      "metadata": {
        "colab": {
          "base_uri": "https://localhost:8080/"
        },
        "id": "MdyxcvkY6Lmb",
        "outputId": "c39687d2-3040-40a0-fd94-d4b47a392a94"
      },
      "execution_count": null,
      "outputs": [
        {
          "output_type": "execute_result",
          "data": {
            "text/plain": [
              "(torch.Size([80, 1]),\n",
              " torch.Size([80, 1]),\n",
              " torch.Size([20, 1]),\n",
              " torch.Size([20, 1]))"
            ]
          },
          "metadata": {},
          "execution_count": 8
        }
      ]
    },
    {
      "cell_type": "markdown",
      "source": [
        "# Creating Data Visualization Function"
      ],
      "metadata": {
        "id": "6hxCSN_r6WJ6"
      }
    },
    {
      "cell_type": "code",
      "source": [
        "def plot_predictions(train_data = X_train, test_data = X_test,\n",
        "                     train_label = y_train, test_label = y_test,\n",
        "                     predictions = None):\n",
        "  fig, ax = plt.subplots(figsize=(10, 7))\n",
        "  ax.scatter(train_data[:, 0], train_label[:, 0],\n",
        "             s=5, c=\"b\", label=\"Training Data\")\n",
        "  ax.scatter(test_data[:, 0], test_label[:, 0],\n",
        "             s=5, c=\"g\", label=\"Testing Data\")\n",
        "  if predictions is not None:\n",
        "    ax.scatter(test_data[:, 0], predictions[:, 0],\n",
        "               s=5, c=\"r\", label=\"Predictions\")\n",
        "  ax.legend()\n",
        "  return fig, ax"
      ],
      "metadata": {
        "id": "A_kcQEUM6RRL"
      },
      "execution_count": null,
      "outputs": []
    },
    {
      "cell_type": "code",
      "source": [
        "fig, ax = plot_predictions()"
      ],
      "metadata": {
        "colab": {
          "base_uri": "https://localhost:8080/",
          "height": 562
        },
        "id": "zqlxYqq073fl",
        "outputId": "9247b1ae-7271-4d14-b637-938b2257e9f9"
      },
      "execution_count": null,
      "outputs": [
        {
          "output_type": "display_data",
          "data": {
            "text/plain": [
              "<Figure size 1000x700 with 1 Axes>"
            ],
            "image/png": "[encoded data removed]"
          },
          "metadata": {}
        }
      ]
    },
    {
      "cell_type": "markdown",
      "source": [
        "# Build Model"
      ],
      "metadata": {
        "id": "8pM11nwL8MhD"
      }
    },
    {
      "cell_type": "code",
      "source": [
        "class LinearRegressionModel(nn.Module):\n",
        "\n",
        "  def __init__(self):\n",
        "    super().__init__()\n",
        "    self.weights = nn.Parameter(\n",
        "        data=torch.randn(1, dtype=torch.float32, requires_grad=True),\n",
        "        requires_grad=True\n",
        "    )\n",
        "    self.bias = nn.Parameter(\n",
        "        data=torch.randn(1, dtype=torch.float32, requires_grad=True),\n",
        "        requires_grad=True\n",
        "    )\n",
        "\n",
        "  def forward(self, x):\n",
        "    result = self.weights * x + self.bias\n",
        "    return result"
      ],
      "metadata": {
        "id": "7XqtzOzx79Dj"
      },
      "execution_count": null,
      "outputs": []
    },
    {
      "cell_type": "markdown",
      "source": [
        "# Checking The Contents of The Model"
      ],
      "metadata": {
        "id": "mrRxa6Sl_jEl"
      }
    },
    {
      "cell_type": "code",
      "source": [
        "random_seed = 100\n",
        "\n",
        "torch.manual_seed(random_seed)\n",
        "model = LinearRegressionModel()\n",
        "\n",
        "print(list(model.parameters()))\n",
        "print(model.state_dict())"
      ],
      "metadata": {
        "colab": {
          "base_uri": "https://localhost:8080/"
        },
        "id": "MdNpJJpZ_U6m",
        "outputId": "dc48cbd5-f938-42ae-b116-10b088196a9e"
      },
      "execution_count": null,
      "outputs": [
        {
          "output_type": "stream",
          "name": "stdout",
          "text": [
            "[Parameter containing:\n",
            "tensor([0.3607], requires_grad=True), Parameter containing:\n",
            "tensor([-0.2859], requires_grad=True)]\n",
            "OrderedDict([('weights', tensor([0.3607])), ('bias', tensor([-0.2859]))])\n"
          ]
        }
      ]
    },
    {
      "cell_type": "markdown",
      "source": [
        "# Making predictions with torch.inference_mode()"
      ],
      "metadata": {
        "id": "wa9OtU5pAiCF"
      }
    },
    {
      "cell_type": "code",
      "source": [
        "model.eval()\n",
        "\n",
        "with torch.inference_mode():\n",
        "  y_pred = model(X_test)"
      ],
      "metadata": {
        "id": "I79hxxh5_grl"
      },
      "execution_count": null,
      "outputs": []
    },
    {
      "cell_type": "code",
      "source": [
        "y_pred.shape"
      ],
      "metadata": {
        "colab": {
          "base_uri": "https://localhost:8080/"
        },
        "id": "_55MbjXFCT4v",
        "outputId": "2605ee20-c7fb-4ed0-a750-08dc2ea4c014"
      },
      "execution_count": null,
      "outputs": [
        {
          "output_type": "execute_result",
          "data": {
            "text/plain": [
              "torch.Size([20, 1])"
            ]
          },
          "metadata": {},
          "execution_count": 14
        }
      ]
    },
    {
      "cell_type": "code",
      "source": [
        "y_pred"
      ],
      "metadata": {
        "colab": {
          "base_uri": "https://localhost:8080/"
        },
        "id": "ToIanldaCU0-",
        "outputId": "54ca3571-7ac6-400f-dd0f-78696fc33cd5"
      },
      "execution_count": null,
      "outputs": [
        {
          "output_type": "execute_result",
          "data": {
            "text/plain": [
              "tensor([[0.0026],\n",
              "        [0.0062],\n",
              "        [0.0098],\n",
              "        [0.0134],\n",
              "        [0.0170],\n",
              "        [0.0206],\n",
              "        [0.0242],\n",
              "        [0.0278],\n",
              "        [0.0315],\n",
              "        [0.0351],\n",
              "        [0.0387],\n",
              "        [0.0423],\n",
              "        [0.0459],\n",
              "        [0.0495],\n",
              "        [0.0531],\n",
              "        [0.0567],\n",
              "        [0.0603],\n",
              "        [0.0639],\n",
              "        [0.0675],\n",
              "        [0.0711]])"
            ]
          },
          "metadata": {},
          "execution_count": 15
        }
      ]
    },
    {
      "cell_type": "code",
      "source": [
        "fig, ax = plot_predictions(predictions=y_pred)"
      ],
      "metadata": {
        "colab": {
          "base_uri": "https://localhost:8080/",
          "height": 562
        },
        "id": "IB5EoBGfCVUO",
        "outputId": "31482656-1b9d-4592-e40d-edb406e1d37c"
      },
      "execution_count": null,
      "outputs": [
        {
          "output_type": "display_data",
          "data": {
            "text/plain": [
              "<Figure size 1000x700 with 1 Axes>"
            ],
            "image/png": "[encoded data removed]"
          },
          "metadata": {}
        }
      ]
    },
    {
      "cell_type": "markdown",
      "source": [
        "# Train Model"
      ],
      "metadata": {
        "id": "09jAomeQEZ73"
      }
    },
    {
      "cell_type": "code",
      "source": [
        "loss_function = nn.L1Loss()\n",
        "\n",
        "optimizer = torch.optim.SGD(params=model.parameters(),\n",
        "                            lr=0.1)"
      ],
      "metadata": {
        "id": "NNxF_Od8CbXu"
      },
      "execution_count": null,
      "outputs": []
    },
    {
      "cell_type": "code",
      "source": [
        "epochs = 25\n",
        "\n",
        "for epoch in range(epochs):\n",
        "  model.train()\n",
        "  y_pred = model(X_train)\n",
        "  loss = loss_function(y_pred, y_train)\n",
        "  optimizer.zero_grad()\n",
        "  loss.backward()\n",
        "  optimizer.step()\n",
        "  model.eval()"
      ],
      "metadata": {
        "id": "FMerfHUGFVCQ"
      },
      "execution_count": null,
      "outputs": []
    },
    {
      "cell_type": "code",
      "source": [
        "print(model.state_dict())"
      ],
      "metadata": {
        "colab": {
          "base_uri": "https://localhost:8080/"
        },
        "id": "PQY4OMMNGpNy",
        "outputId": "cbd1bd05-c300-4df9-8e9d-4bbeb83693d0"
      },
      "execution_count": null,
      "outputs": [
        {
          "output_type": "stream",
          "name": "stdout",
          "text": [
            "OrderedDict([('weights', tensor([0.6349])), ('bias', tensor([0.3791]))])\n"
          ]
        }
      ]
    },
    {
      "cell_type": "code",
      "source": [
        "with torch.inference_mode():\n",
        "  y_pred = model(X_test)"
      ],
      "metadata": {
        "id": "krUMTpKjGuG3"
      },
      "execution_count": null,
      "outputs": []
    },
    {
      "cell_type": "code",
      "source": [
        "fig, ax = plot_predictions(predictions=y_pred)"
      ],
      "metadata": {
        "colab": {
          "base_uri": "https://localhost:8080/",
          "height": 562
        },
        "id": "5xeJ4QcmG7bJ",
        "outputId": "a251c928-fac3-49f0-a5d7-6fd51fdf2cca"
      },
      "execution_count": null,
      "outputs": [
        {
          "output_type": "display_data",
          "data": {
            "text/plain": [
              "<Figure size 1000x700 with 1 Axes>"
            ],
            "image/png": "[encoded data removed]"
          },
          "metadata": {}
        }
      ]
    },
    {
      "cell_type": "markdown",
      "source": [
        "# Train a Model In a Device Agnostic Way"
      ],
      "metadata": {
        "id": "7CPbZcSSin_e"
      }
    },
    {
      "cell_type": "markdown",
      "source": [
        "## Importing Libraries"
      ],
      "metadata": {
        "id": "gPXcbCSajOsE"
      }
    },
    {
      "cell_type": "code",
      "source": [
        "from pathlib import Path\n",
        "import numpy as np\n",
        "import matplotlib.pyplot as plt\n",
        "import torch\n",
        "from torch import nn\n",
        "\n",
        "print(torch.__version__)"
      ],
      "metadata": {
        "colab": {
          "base_uri": "https://localhost:8080/"
        },
        "id": "qMJPCi3UinW9",
        "outputId": "d2f5e8cc-d3ff-4d33-ebe1-c6db07450c51"
      },
      "execution_count": null,
      "outputs": [
        {
          "output_type": "stream",
          "name": "stdout",
          "text": [
            "2.0.1+cu118\n"
          ]
        }
      ]
    },
    {
      "cell_type": "code",
      "source": [
        "device = \"cuda\" if torch.cuda.is_available() else \"cpu\"\n",
        "print(device)"
      ],
      "metadata": {
        "id": "Ua_xEE9EG9XX",
        "colab": {
          "base_uri": "https://localhost:8080/"
        },
        "outputId": "980c8dad-38aa-47a0-80a3-d48fdf58011b"
      },
      "execution_count": null,
      "outputs": [
        {
          "output_type": "stream",
          "name": "stdout",
          "text": [
            "cuda\n"
          ]
        }
      ]
    },
    {
      "cell_type": "markdown",
      "source": [
        "## Creating and Splitting Dataset"
      ],
      "metadata": {
        "id": "O8vewIZnjQ7k"
      }
    },
    {
      "cell_type": "code",
      "source": [
        "weight = 0.7\n",
        "bias = 0.3\n",
        "\n",
        "start = 0\n",
        "end = 1\n",
        "step = 0.01\n",
        "\n",
        "X = torch.arange(start, end, step).reshape(shape=(-1, 1))\n",
        "\n",
        "y = weight * X + bias"
      ],
      "metadata": {
        "id": "Sdklk5mxjG18"
      },
      "execution_count": null,
      "outputs": []
    },
    {
      "cell_type": "code",
      "source": [
        "train_ratio = 0.8\n",
        "\n",
        "index_split = int(0.8 * X.shape[0])\n",
        "X_train, y_train = X[:index_split], y[:index_split]\n",
        "X_test, y_test = X[index_split:], y[index_split:]"
      ],
      "metadata": {
        "id": "v-jJUdRNjVHT"
      },
      "execution_count": null,
      "outputs": []
    },
    {
      "cell_type": "code",
      "source": [
        "X_train = X_train.to(device)\n",
        "y_train = y_train.to(device)\n",
        "X_test = X_test.to(device)\n",
        "y_test = y_test.to(device)"
      ],
      "metadata": {
        "id": "twpkOpaUjqCg"
      },
      "execution_count": null,
      "outputs": []
    },
    {
      "cell_type": "markdown",
      "source": [
        "## Creating and Training A Simple NN Model"
      ],
      "metadata": {
        "id": "rb5sGLxGj9X9"
      }
    },
    {
      "cell_type": "code",
      "source": [
        "class LinearRegressionModel(nn.Module):\n",
        "\n",
        "    def __init__(self):\n",
        "        super().__init__()\n",
        "        self.linear_layer = nn.Linear(in_features=1, out_features=1)\n",
        "\n",
        "    def forward(self, x: torch.Tensor) -> torch.Tensor:\n",
        "        result = self.linear_layer(x)\n",
        "        return result"
      ],
      "metadata": {
        "id": "u3dLdctJj2ja"
      },
      "execution_count": null,
      "outputs": []
    },
    {
      "cell_type": "code",
      "source": [
        "random_seed_value = 42\n",
        "\n",
        "torch.manual_seed(random_seed_value)\n",
        "model = LinearRegressionModel()"
      ],
      "metadata": {
        "id": "7HyswrkOkrdv"
      },
      "execution_count": null,
      "outputs": []
    },
    {
      "cell_type": "code",
      "source": [
        "model"
      ],
      "metadata": {
        "colab": {
          "base_uri": "https://localhost:8080/"
        },
        "id": "zZgBrcgqku50",
        "outputId": "0b88c1ec-7e16-4ce3-8d47-f1bb418b2365"
      },
      "execution_count": null,
      "outputs": [
        {
          "output_type": "execute_result",
          "data": {
            "text/plain": [
              "LinearRegressionModel(\n",
              "  (linear_layer): Linear(in_features=1, out_features=1, bias=True)\n",
              ")"
            ]
          },
          "metadata": {},
          "execution_count": 11
        }
      ]
    },
    {
      "cell_type": "code",
      "source": [
        "model.state_dict()"
      ],
      "metadata": {
        "colab": {
          "base_uri": "https://localhost:8080/"
        },
        "id": "Ws8sxkelkvuD",
        "outputId": "a18ca401-f968-4aed-9779-f3ebd9ef697f"
      },
      "execution_count": null,
      "outputs": [
        {
          "output_type": "execute_result",
          "data": {
            "text/plain": [
              "OrderedDict([('linear_layer.weight', tensor([[0.7645]])),\n",
              "             ('linear_layer.bias', tensor([0.8300]))])"
            ]
          },
          "metadata": {},
          "execution_count": 12
        }
      ]
    },
    {
      "cell_type": "code",
      "source": [
        "next(model.parameters()).device"
      ],
      "metadata": {
        "colab": {
          "base_uri": "https://localhost:8080/"
        },
        "id": "wg1j1fmMkxS3",
        "outputId": "6a19d2f4-81e2-4ddf-8e9d-463bb88ea9b9"
      },
      "execution_count": null,
      "outputs": [
        {
          "output_type": "execute_result",
          "data": {
            "text/plain": [
              "device(type='cpu')"
            ]
          },
          "metadata": {},
          "execution_count": 13
        }
      ]
    },
    {
      "cell_type": "code",
      "source": [
        "model.to(device)"
      ],
      "metadata": {
        "colab": {
          "base_uri": "https://localhost:8080/"
        },
        "id": "l-a6i89Tk_Qi",
        "outputId": "39e37a67-4f23-4dcc-fc78-6fe68a87c9b2"
      },
      "execution_count": null,
      "outputs": [
        {
          "output_type": "execute_result",
          "data": {
            "text/plain": [
              "LinearRegressionModel(\n",
              "  (linear_layer): Linear(in_features=1, out_features=1, bias=True)\n",
              ")"
            ]
          },
          "metadata": {},
          "execution_count": 14
        }
      ]
    },
    {
      "cell_type": "code",
      "source": [
        "next(model.parameters()).device"
      ],
      "metadata": {
        "colab": {
          "base_uri": "https://localhost:8080/"
        },
        "id": "gSsHzn42lJRz",
        "outputId": "ca0e4715-ca9a-4a87-b90b-891f9f973f6e"
      },
      "execution_count": null,
      "outputs": [
        {
          "output_type": "execute_result",
          "data": {
            "text/plain": [
              "device(type='cuda', index=0)"
            ]
          },
          "metadata": {},
          "execution_count": 15
        }
      ]
    },
    {
      "cell_type": "code",
      "source": [
        "loss_function = nn.L1Loss()\n",
        "\n",
        "optimizer = torch.optim.SGD(params=model.parameters(),\n",
        "                            lr=0.001)"
      ],
      "metadata": {
        "id": "MJVvihiJlKpr"
      },
      "execution_count": null,
      "outputs": []
    },
    {
      "cell_type": "code",
      "source": [
        "number_epochs = 1500\n",
        "\n",
        "epoch_values = [None] * number_epochs\n",
        "train_loss_values = [None] * number_epochs\n",
        "test_loss_values = [None] * number_epochs\n",
        "\n",
        "for index_epoch in range(number_epochs):\n",
        "    model.train()\n",
        "\n",
        "    y_pred_train = model(X_train)\n",
        "    loss_train = loss_function(y_pred_train, y_train)\n",
        "\n",
        "    optimizer.zero_grad()\n",
        "    loss_train.backward()\n",
        "    optimizer.step()\n",
        "\n",
        "    model.eval()\n",
        "\n",
        "    with torch.inference_mode():\n",
        "        y_pred_test = model(X_test)\n",
        "        loss_test = loss_function(y_pred_test, y_test)\n",
        "\n",
        "    epoch_values[index_epoch] = index_epoch\n",
        "    train_loss_values[index_epoch] = loss_train\n",
        "    test_loss_values[index_epoch] = loss_test\n",
        "\n",
        "    if index_epoch % 50 == 0:\n",
        "        print(f\"{index_epoch}:     Train Loss: {loss_train.item():.6f}     Test Loss: {loss_test.item():.6f}\")\n",
        "\n",
        "print(\"Done\")"
      ],
      "metadata": {
        "colab": {
          "base_uri": "https://localhost:8080/"
        },
        "id": "wqT5o50IleJE",
        "outputId": "210ffc35-8a12-488c-88f0-8b5fcccf4661"
      },
      "execution_count": null,
      "outputs": [
        {
          "output_type": "stream",
          "name": "stdout",
          "text": [
            "0:     Train Loss: 0.555501     Test Loss: 0.586416\n",
            "50:     Train Loss: 0.497700     Test Loss: 0.518741\n",
            "100:     Train Loss: 0.439899     Test Loss: 0.451065\n",
            "150:     Train Loss: 0.382099     Test Loss: 0.383390\n",
            "200:     Train Loss: 0.324298     Test Loss: 0.315714\n",
            "250:     Train Loss: 0.266498     Test Loss: 0.248038\n",
            "300:     Train Loss: 0.208697     Test Loss: 0.180363\n",
            "350:     Train Loss: 0.150896     Test Loss: 0.112687\n",
            "400:     Train Loss: 0.093096     Test Loss: 0.045012\n",
            "450:     Train Loss: 0.037079     Test Loss: 0.021147\n",
            "500:     Train Loss: 0.024447     Test Loss: 0.045421\n",
            "550:     Train Loss: 0.022000     Test Loss: 0.048744\n",
            "600:     Train Loss: 0.020230     Test Loss: 0.046652\n",
            "650:     Train Loss: 0.018516     Test Loss: 0.042828\n",
            "700:     Train Loss: 0.016802     Test Loss: 0.039003\n",
            "750:     Train Loss: 0.015089     Test Loss: 0.035179\n",
            "800:     Train Loss: 0.013375     Test Loss: 0.031354\n",
            "850:     Train Loss: 0.011661     Test Loss: 0.027495\n",
            "900:     Train Loss: 0.009948     Test Loss: 0.023430\n",
            "950:     Train Loss: 0.008235     Test Loss: 0.019399\n",
            "1000:     Train Loss: 0.006522     Test Loss: 0.015334\n",
            "1050:     Train Loss: 0.004809     Test Loss: 0.011269\n",
            "1100:     Train Loss: 0.003095     Test Loss: 0.007238\n",
            "1150:     Train Loss: 0.001382     Test Loss: 0.003173\n",
            "1200:     Train Loss: 0.000282     Test Loss: 0.001231\n",
            "1250:     Train Loss: 0.000282     Test Loss: 0.001231\n",
            "1300:     Train Loss: 0.000282     Test Loss: 0.001231\n",
            "1350:     Train Loss: 0.000282     Test Loss: 0.001231\n",
            "1400:     Train Loss: 0.000282     Test Loss: 0.001231\n",
            "1450:     Train Loss: 0.000282     Test Loss: 0.001231\n",
            "Done\n"
          ]
        }
      ]
    },
    {
      "cell_type": "code",
      "source": [
        "epoch_values = np.array(epoch_values)\n",
        "train_loss_values = torch.Tensor(train_loss_values).numpy()\n",
        "test_loss_values = torch.Tensor(test_loss_values).numpy()"
      ],
      "metadata": {
        "id": "-mNBRNTPmuH4"
      },
      "execution_count": null,
      "outputs": []
    },
    {
      "cell_type": "code",
      "source": [
        "fig, ax = plt.subplots()\n",
        "\n",
        "ax.plot(epoch_values, train_loss_values, label=\"Train Losses\")\n",
        "ax.plot(epoch_values, test_loss_values, label=\"Test Losses\")\n",
        "\n",
        "ax.set_xlabel(\"Epoch\")\n",
        "ax.set_ylabel(\"Loss Value\")\n",
        "ax.legend()"
      ],
      "metadata": {
        "colab": {
          "base_uri": "https://localhost:8080/",
          "height": 467
        },
        "id": "9QZK1Pxum4zl",
        "outputId": "78f4a134-d5e0-4ac7-9aea-6277106f00ce"
      },
      "execution_count": null,
      "outputs": [
        {
          "output_type": "execute_result",
          "data": {
            "text/plain": [
              "<matplotlib.legend.Legend at 0x7f23684d6140>"
            ]
          },
          "metadata": {},
          "execution_count": 19
        },
        {
          "output_type": "display_data",
          "data": {
            "text/plain": [
              "<Figure size 640x480 with 1 Axes>"
            ],
            "image/png": "[encoded data removed]"
          },
          "metadata": {}
        }
      ]
    },
    {
      "cell_type": "markdown",
      "source": [
        "## Plotting The Results"
      ],
      "metadata": {
        "id": "elRIj0AUoTKm"
      }
    },
    {
      "cell_type": "code",
      "source": [
        "def plot_predictions(train_data = X_train, test_data = X_test,\n",
        "                     train_label = y_train, test_label = y_test,\n",
        "                     predictions = None):\n",
        "  fig, ax = plt.subplots(figsize=(10, 7))\n",
        "  ax.scatter(train_data[:, 0], train_label[:, 0],\n",
        "             s=5, c=\"b\", label=\"Training Data\")\n",
        "  ax.scatter(test_data[:, 0], test_label[:, 0],\n",
        "             s=5, c=\"g\", label=\"Testing Data\")\n",
        "  if predictions is not None:\n",
        "    ax.scatter(test_data[:, 0], predictions[:, 0],\n",
        "               s=5, c=\"r\", label=\"Predictions\")\n",
        "  ax.legend()\n",
        "  return fig, ax"
      ],
      "metadata": {
        "id": "1HTaTx8PnNB0"
      },
      "execution_count": null,
      "outputs": []
    },
    {
      "cell_type": "code",
      "source": [
        "model.eval()\n",
        "\n",
        "with torch.inference_mode():\n",
        "    y_preds = model(X_test)"
      ],
      "metadata": {
        "id": "MHkKMgMRoNj_"
      },
      "execution_count": null,
      "outputs": []
    },
    {
      "cell_type": "code",
      "source": [
        "plot_predictions(train_data = X_train.cpu(), test_data = X_test.cpu(),\n",
        "                 train_label = y_train.cpu(), test_label = y_test.cpu(),\n",
        "                 predictions = y_preds.cpu())"
      ],
      "metadata": {
        "colab": {
          "base_uri": "https://localhost:8080/",
          "height": 580
        },
        "id": "PjD2dFUEoX-a",
        "outputId": "e3824103-cf21-4bb0-b3b6-30c8a55c6107"
      },
      "execution_count": null,
      "outputs": [
        {
          "output_type": "execute_result",
          "data": {
            "text/plain": [
              "(<Figure size 1000x700 with 1 Axes>, <Axes: >)"
            ]
          },
          "metadata": {},
          "execution_count": 24
        },
        {
          "output_type": "display_data",
          "data": {
            "text/plain": [
              "<Figure size 1000x700 with 1 Axes>"
            ],
            "image/png": "[encoded data removed]"
          },
          "metadata": {}
        }
      ]
    },
    {
      "cell_type": "markdown",
      "source": [
        "## Saving PyTorch Models"
      ],
      "metadata": {
        "id": "O1icNAOCpjrV"
      }
    },
    {
      "cell_type": "code",
      "source": [
        "models_directories = Path(\"./models\").resolve()\n",
        "model_file_name = \"linear_regression_model.pth\"\n",
        "\n",
        "model_file_path = models_directories / model_file_name\n",
        "\n",
        "models_directories.mkdir(parents=True, exist_ok=True)\n",
        "\n",
        "with open(file=model_file_path, mode=\"wb\") as model_file:\n",
        "    torch.save(obj=model.state_dict(), f=model_file)"
      ],
      "metadata": {
        "id": "K0jQWS30oYzb"
      },
      "execution_count": null,
      "outputs": []
    },
    {
      "cell_type": "markdown",
      "source": [
        "## Loading PyTorch Models"
      ],
      "metadata": {
        "id": "lsk-eSX8qtjk"
      }
    },
    {
      "cell_type": "code",
      "source": [
        "models_directories = Path(\"./models\").resolve()\n",
        "model_file_name = \"linear_regression_model.pth\"\n",
        "\n",
        "model_file_path = models_directories / model_file_name"
      ],
      "metadata": {
        "id": "LVT8N9jZqsHG"
      },
      "execution_count": null,
      "outputs": []
    },
    {
      "cell_type": "code",
      "source": [
        "class LinearRegressionModel(nn.Module):\n",
        "\n",
        "    def __init__(self):\n",
        "        super().__init__()\n",
        "        self.linear_layer = nn.Linear(in_features=1, out_features=1)\n",
        "\n",
        "    def forward(self, x: torch.Tensor) -> torch.Tensor:\n",
        "        result = self.linear_layer(x)\n",
        "        return result"
      ],
      "metadata": {
        "id": "0bcNYfJcq2nl"
      },
      "execution_count": null,
      "outputs": []
    },
    {
      "cell_type": "code",
      "source": [
        "model_loaded = LinearRegressionModel()"
      ],
      "metadata": {
        "id": "UmZl7ukgpWg1"
      },
      "execution_count": null,
      "outputs": []
    },
    {
      "cell_type": "code",
      "source": [
        "model_loaded.state_dict()"
      ],
      "metadata": {
        "colab": {
          "base_uri": "https://localhost:8080/"
        },
        "id": "YdC0-3dDqGfR",
        "outputId": "e4d1b50c-2ebc-4614-bb20-fa262f7ea2b2"
      },
      "execution_count": null,
      "outputs": [
        {
          "output_type": "execute_result",
          "data": {
            "text/plain": [
              "OrderedDict([('linear_layer.weight', tensor([[-0.2343]])),\n",
              "             ('linear_layer.bias', tensor([0.9186]))])"
            ]
          },
          "metadata": {},
          "execution_count": 40
        }
      ]
    },
    {
      "cell_type": "code",
      "source": [
        "with open(file=model_file_path, mode=\"rb\") as model_file:\n",
        "    model_state_dict = torch.load(f=model_file)\n",
        "\n",
        "model.load_state_dict(state_dict=model_state_dict)"
      ],
      "metadata": {
        "colab": {
          "base_uri": "https://localhost:8080/"
        },
        "id": "i9PP2YiAq-oT",
        "outputId": "68fa82fb-f9f5-4ea1-aed0-4bf2bd548218"
      },
      "execution_count": null,
      "outputs": [
        {
          "output_type": "execute_result",
          "data": {
            "text/plain": [
              "<All keys matched successfully>"
            ]
          },
          "metadata": {},
          "execution_count": 41
        }
      ]
    },
    {
      "cell_type": "code",
      "source": [
        "model.state_dict()"
      ],
      "metadata": {
        "colab": {
          "base_uri": "https://localhost:8080/"
        },
        "id": "BQJ9wizYrOmO",
        "outputId": "518a6f7e-f330-4784-95cb-808a47e73ad2"
      },
      "execution_count": null,
      "outputs": [
        {
          "output_type": "execute_result",
          "data": {
            "text/plain": [
              "OrderedDict([('linear_layer.weight', tensor([[0.6997]], device='cuda:0')),\n",
              "             ('linear_layer.bias', tensor([0.3004], device='cuda:0'))])"
            ]
          },
          "metadata": {},
          "execution_count": 42
        }
      ]
    },
    {
      "cell_type": "code",
      "source": [],
      "metadata": {
        "id": "R8-vcY0TrQX4"
      },
      "execution_count": null,
      "outputs": []
    }
  ]
}